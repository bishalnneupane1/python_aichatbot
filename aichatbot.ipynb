{
  "nbformat": 4,
  "nbformat_minor": 0,
  "metadata": {
    "colab": {
      "provenance": []
    },
    "kernelspec": {
      "name": "python3",
      "display_name": "Python 3"
    },
    "language_info": {
      "name": "python"
    }
  },
  "cells": [
    {
      "cell_type": "code",
      "execution_count": null,
      "metadata": {
        "colab": {
          "base_uri": "https://localhost:8080/"
        },
        "id": "FMK_GZeuszCZ",
        "outputId": "f19d4b54-c896-49e3-873e-56ada850b73e"
      },
      "outputs": [
        {
          "output_type": "stream",
          "name": "stdout",
          "text": [
            "{'intents': [{'intent': 'greeting', 'questions': ['Hi', 'Hey', 'Is anyone there?', 'Hello', 'Hay', 'Yo', 'Whatsup', 'Hello, Course Creator', 'Hi there', 'Hey, CurricuBot', 'Greetings, CurricuBot'], 'responses': ['Hello', 'Hi', 'Hi there', 'Hey!', 'Welcome!', \"Hello! I'm Course Creator, your course planning bot. How can I assist you today?\", 'Hello! Welcome to CurricuBot!', 'Hi! Welcome to CurricuBot!', 'Hi there!', 'Hi! How can I help you?', 'Hi! Is there something that I can do for you?']}, {'intent': 'asking', 'questions': ['How are you?'], 'responses': ['I am good. Thank you! How may I help you?']}, {'intent': 'goodbye', 'questions': ['Bye', 'See you later', 'Goodbye'], 'responses': ['See you later', 'Have a nice day', 'Bye! Come back again']}, {'intent': 'thanks', 'questions': ['Thanks', 'Thank you', \"That's helpful\", 'Thanks for the help'], 'responses': ['Happy to help!', 'Any time!', 'My pleasure', \"You're most welcome!\"]}, {'intent': 'about', 'questions': ['Who are you?', 'What are you?', 'Who you are?', 'tell me about yourself'], 'responses': [\"I'm NobelBot, your bot assistant\", \"I'm NobelBot, an Artificial Intelligent bot\"]}, {'intent': 'name', 'questions': ['what is your name', 'what should I call you', 'whats your name?'], 'responses': ['You can call me NobelBot.', \"I'm NobelBot!\", 'Just call me  NobelBot']}, {'intent': 'help', 'questions': ['Could you help me?', 'give me a hand please', 'Can you help?', 'What can you do for me?', 'I need a support', 'I need a help', 'support me please'], 'responses': ['Tell me how I can assist you', 'Tell me your problem to help you', 'Yes sure, How can I support you']}, {'intent': 'learn', 'questions': ['I want to learn more about AI', 'What is Machine Learning', 'I want to learn', 'can you teach me about ai', 'how to build a chatbot'], 'responses': ['You can learn more about it on our classes', 'LMS has a lot of cool info about this']}, {'intent': 'interest', 'questions': ['what do you like to do', 'how do you spend your free time', 'whats your favorite thing'], 'responses': ['I love talking to Explorers', 'I love to talk about science with Explorers']}, {'intent': 'Define course objective ', 'questions': ['How do I establish the course objectives?', 'Guide me in defining the learning outcomes for my course.', 'Can you assist with creating clear objectives for my biology class?', 'What steps should I take to set course objectives?', 'Help me outline the goals for my economics course.'], 'responses': [\"Sure, to define course objectives, you should start by identifying what you want your students to learn by the end of the course. This can include specific knowledge, skills, or competencies. Let's break this down further.\", \"Defining course objectives is an important step in course design. First, consider what knowledge or skills you want your students to gain. Let's walk through this process together.\", 'Setting course objectives is a crucial part of course design. I can help you with that. What subject or course are you working on?', \"Certainly! To establish course objectives, it's important to understand what you want your students to achieve. Could you tell me more about your course?\"]}, {'intent': 'effctive course design ', 'questions': ['How do I design a course?', 'Guide me in designing course.', 'Course Design'], 'responses': ['Creating course content is a systematic process that involves planning, organizing, and delivering educational material to help learners achieve specific learning objectives. \\n Here are the main point to remember while desigining course: \\n 1. Define course purpose \\n 2. Audience Analysis \\n 3. Curriculum Design \\n 4. Content Research \\n 5. Engagement Technique \\n 6. Formatting and Design \\n 7. Accessibility \\n 8. Feedback']}, {'intent': 'Course content', 'questions': ['What should course include?', 'What make course engaging?', 'How to make course engaging for audience?'], 'responses': ['Creating an engaging course for your audience involves tailoring the content and delivery to meet their specific needs, preferences, and motivations.\\n 1. Know your audience \\n 2. Relevent contents to goals \\n 3. Clear Learning Objective \\n 4. Practical Activities \\n 5. Varied Content Formats(text, multimedia-video, audio, image, animation \\n 6. Discussion Forums \\n 7. Engaging Assesments']}, {'intent': 'Course material ', 'questions': ['How can I find appropriate course materials?', 'Where can I access relevant textbooks for Nobel classes?'], 'responses': [' Here is a link to the [Course Resources Page] https://nobel-coaching.teachable.com/ .\\n Make sure to use the credential that are provided in email.']}, {'intent': 'Nobel', 'questions': ['What is Nobel?'], 'responses': ['It is an internship based company']}, {'intent': 'Courses', 'questions': ['Which courses are necessary to complete to move forward?'], 'responses': ['BIT, PnP, Leadership and IWD', '2 months (weekday cohort) and 4 months (Weekend cohort)']}, {'intent': 'Jokes', 'questions': ['Tell me a joke', 'Do you know any jokes?', 'Make me laugh', 'Got any funny stories?'], 'responses': ['Why was the math book sad? It had too many problems!', 'What do you call a bear with no teeth? A gummy bear!']}, {'intent': 'course_creation', 'questions': ['How can I create a course?', 'May I create a new course?', 'I want to create a new course'], 'responses': ['Sure, please provide details about the course.', \"Absolutely, let's get started!\"]}, {'intent': 'course_name', 'questions': ['How should I name the course?', 'What name should I give to the course?'], 'responses': ['You should choose the name precisely in order to show interns what is the course about?']}, {'intent': 'course_expo', 'questions': ['When will interns present their final project?', 'When is the expo scheduled?'], 'responses': ['The expo will be during the last session, when interns will showcase their projects.']}, {'intent': 'course_registration', 'questions': ['How can interns register for my course?', 'Where can interns find my course?'], 'responses': ['Interns will receive a link to a Google Sheet where they can sign up for your course.']}, {'intent': 'course_details', 'questions': ['Where will the meeting be held?', 'Where will our sessions with interns be?', 'Which platform will host the sessions?'], 'responses': ['All sessions will be conducted on Google Meet.']}, {'intent': 'course_planning', 'questions': ['How should I plan for the course?', 'What are the steps to create a course?'], 'responses': ['At first, you should create a plan for what you want to teach the students. Then, you should create a presentation and prepare a pitch.']}, {'intent': 'course_materials', 'questions': ['What materials should I prepare?', 'What resources do I need for the course?', 'How can I choose course materials?'], 'responses': ['Consider the objectives of your course. Typically, materials can range from articles, online resources, videos, to hands-on projects.']}, {'intent': 'course_updates', 'questions': ['How often should I update the course?', 'Do I need to revise my materials regularly?'], 'responses': [\"Regular updates ensure that your content remains relevant, especially if it's a rapidly evolving field.\", 'Consider annual revisions, but also be open to interim changes based on feedback or major developments.', 'If your course involves current events or tech, more frequent updates might be necessary.']}, {'intent': 'course_tools', 'questions': ['What tools are recommended for this course?', 'Do students need any specific software?', 'Any apps or tools we need to download?'], 'responses': ['Depending on the course content, you might need tool X or software Y.', 'Ensure students have access to the necessary tools before the course starts.', 'For this particular course, a basic setup with Z software is recommended.']}, {'intent': 'course_technical_requirements', 'questions': ['What technical requirements are there?', 'What kind of device do I need?', 'Is a high-speed internet connection necessary?'], 'responses': ['A stable internet connection and a modern browser are required.', 'Accessing via a computer is recommended for the best experience.', 'Basic technical requirements include a device with internet, and Z software installed.']}, {'intent': 'apply', 'questions': ['How can people apply to it?'], 'responses': ['There is \"apply\" button']}, {'intent': 'encourage', 'questions': ['How can I encourage others to complete the course?'], 'responses': ['You can create a certificate for those who passed!']}, {'intent': 'modify', 'questions': ['Can you help me to modify a course?'], 'responses': ['Sure! Provide me with details)']}, {'intent': 'structure', 'questions': ['Can you prepare a structure for my course?'], 'responses': ['I can! Just provide me with details)']}, {'intent': 'add', 'questions': ['Can you create one part for already created course?', 'Can you create one part for already created course?'], 'responses': ['Yes! What do you want to add?)']}, {'intent': 'change', 'questions': ['Can you change one part of already created course?'], 'responses': ['Yes! Specify please)']}, {'intent': 'Create a course', 'questions': ['Tell me the steps to create a course.', 'I want to create a course. Where do I start', 'Guide me through course creation.', 'How do I set up a new course'], 'responses': ['Define your course topic, outline the curriculum, set the learning objectives, choose the format (e.g., video, text, quizzes), design assignments and assessments, and finally, publish your course.', \"1. Choosing a topic, 2. Planning the curriculum, 3. Identifying the target audience, 4. Developing course materials, 5. Setting up a schedule, and 6. Launching your course. Let's dive deeper into any specific step you'd like to explore further.\", \"First, identify your course topic. Then, outline your curriculum and learning objectives. Next, decide on the type of content, whether it's videos, written materials, or interactive quizzes. After that, design assignments and assessments. Finally, when everything is ready, publish your course for learners to access.\", \"You should begin by selecting a topic, outlining a curriculum, deciding on the level, and defining the course objectives. Next, you'll create the course content and syllabus, and then select instructors if needed. Don't forget to consider perks and benefits for your learners. Finally, prepare tests and assignments, and publish your course.\"]}, {'intent': 'TestsAndAssignments', 'questions': ['How to structure tests and assignments', 'course assessments.', 'What kind of assignments are suitable'], 'responses': ['You can start by identifying the learning objectives and the skills you want your students to develop. Then, create a variety of assignments such as quizzes, essays, projects, and discussions. Make sure they align with the course content and progressively challenge the learners as the course progresses.', \"Course assessments are methods used to evaluate students' understanding and progress. They can include quizzes, exams, assignments, projects, and peer evaluations. The key is to design assessments that align with your course objectives and provide a fair and comprehensive evaluation of the material.\", \"if your course is technical, you might include hands-on projects. If it's theory-based, essays or research assignments could be appropriate. To engage students, consider discussions, group projects, and peer reviews. The key is to mix different assignment types to cater to diverse learning styles.\", \"Course evaluation methods are essential for ensuring the quality of your teaching and content. You can employ surveys, feedback forms, and peer reviews to gather feedback from your students. Additionally, self-assessments and assessment of learning outcomes are crucial for measuring the course's effectiveness.\"]}, {'intent': 'Length of course', 'questions': ['How long will be the course', 'What will be the timeline of the course', 'Course duration and timing.'], 'responses': ['If you want your courses to be self-paced you can provide the flexibility to the students to complete the course faster or slower, depending on their own schedule.You can recommend 3-5 hours of study per week but provide the freedom to the students to learn at their own pace. Or, you can even set the start and end dates of a course, and set the standard weekly time commitments. For example, 6-10 hours per week depending upon the amount of course materials and the time period.']}, {'intent': 'Syllabus', 'questions': ['How to create a course syllabus', 'syllabus design.', 'What should be included in the syllabus'], 'responses': ['To create a course syllabus, start with a clear course title, course description, learning objectives, schedule, assessment methods, required materials, and policies.', \"A course outline and syllabus should encompass the course's structure, objectives, content, and assessment details. It serves as a guide for both students and instructors, ensuring clarity and transparency.\", \"Syllabus design involves outlining the course's key elements. It should include course objectives, topics, assessment details, readings, and any relevant policies.\"]}, {'intent': 'courses', 'questions': ['I want to learn about courses', 'What is course content creation', 'I want to learn', 'can you teach me about content creation'], 'responses': ['You can learn more about it on our classes', 'It is a creation of something creative for entertaining or educational purposes']}, {'intent': 'Details', 'questions': ['What can I explore from this', 'what do you offer'], 'responses': ['You can explore various part of content creation according to your interest', 'We offer different courses according to your interest']}, {'intent': 'Enroll', 'questions': ['How can I join this course', 'I want to join this course', 'How can I register'], 'responses': ['You can sign up to this course using your account', 'You can register from here:link']}, {'intent': 'report_problem', 'questions': ['Where can I contact', 'I have a problem', 'Want to talk with support team'], 'responses': ['You can mail any problem you experience in this mail:  _______@gmail.com', 'Mail for the support team: ________@gmail.com']}, {'intent': 'Create', 'questions': ['How can I create course according to my interest', 'Can I create a new course', 'I want to create a course'], 'responses': ['You can present your interest ', 'Yes ofcourse you can add the idea for new course', 'To create a new couse please provide the course name']}]}\n"
          ]
        }
      ],
      "source": [
        "import json\n",
        "import numpy as np\n",
        "import tensorflow as tf\n",
        "from tensorflow import keras\n",
        "from tensorflow.keras.models import Sequential\n",
        "from tensorflow.keras.layers import Dense, Embedding, GlobalAveragePooling1D\n",
        "from tensorflow.keras.preprocessing.text import Tokenizer\n",
        "from tensorflow.keras.preprocessing.sequence import pad_sequences\n",
        "from sklearn.preprocessing import LabelEncoder\n",
        "tf.compat.v1.logging.set_verbosity(tf.compat.v1.logging.ERROR)\n",
        "with open('/content/drive/MyDrive/ai chatbots/intent.json') as file:\n",
        "    data = json.load(file)\n",
        "print(data)\n",
        "training_sentences = []\n",
        "training_labels = []\n",
        "labels = []\n",
        "responses = []\n",
        "\n",
        "for intent in data['intents']:\n",
        "    for pattern in intent['questions']:\n",
        "        training_sentences.append(pattern)\n",
        "        training_labels.append(intent['intent'])\n",
        "    responses.append(intent['responses'])\n",
        "\n",
        "    if intent['intent'] not in labels:\n",
        "        labels.append(intent['intent'])\n",
        "\n",
        "num_classes = len(labels)\n",
        "\n",
        "# convert target labels\n",
        "lbl_encoder = LabelEncoder()\n",
        "lbl_encoder.fit(training_labels)\n",
        "#print(lbl_encoder)\n",
        "#print(training_labels)\n",
        "training_labels = lbl_encoder.transform(training_labels)\n",
        "#print(training_labels)\n",
        "\n",
        "# vectorize data corpus\n",
        "vocab_size = 1000\n",
        "embedding_dim = 16\n",
        "max_len = 20\n",
        "# deal with out of token\n",
        "oov_token = \"<OOV>\"\n",
        "\n",
        "tokenizer = Tokenizer(num_words=vocab_size, oov_token=oov_token)\n",
        "tokenizer.fit_on_texts(training_sentences)\n",
        "word_index = tokenizer.word_index\n",
        "sequences = tokenizer.texts_to_sequences(training_sentences)\n",
        "# make all training sequences same size\n",
        "padded_sequences = pad_sequences(sequences, truncating='post', maxlen=max_len)\n",
        "\n",
        "# define nn\n",
        "model = Sequential()\n",
        "model.add(Embedding(vocab_size, embedding_dim, input_length=max_len))\n",
        "model.add(GlobalAveragePooling1D())\n",
        "model.add(Dense(16, activation='relu'))\n",
        "model.add(Dense(16, activation='relu'))\n",
        "model.add(Dense(num_classes, activation='softmax'))\n",
        "\n",
        "model.compile(loss='sparse_categorical_crossentropy', optimizer='adam', metrics=['accuracy'])\n",
        "# model.summary()\n",
        "\n",
        "# train the model\n",
        "epochs = 500\n",
        "history = model.fit(padded_sequences, np.array(training_labels), epochs=epochs,verbose = 0)\n",
        "\n",
        "model.save(\"chat_model\")\n",
        "\n",
        "import pickle\n",
        "\n",
        "# to save fitted tokenizer\n",
        "with open('tokenizer.pickle', 'wb') as handle:\n",
        "    pickle.dump(tokenizer, handle, protocol=pickle.HIGHEST_PROTOCOL)\n",
        "\n",
        "# to save the fitted label encoder\n",
        "with open('label_encoder.pickle', 'wb') as ecn_file:\n",
        "    pickle.dump(lbl_encoder, ecn_file, protocol=pickle.HIGHEST_PROTOCOL)"
      ]
    },
    {
      "cell_type": "code",
      "source": [
        "import json\n",
        "import numpy as np\n",
        "from tensorflow import keras\n",
        "from sklearn.preprocessing import LabelEncoder\n",
        "\n",
        "import random\n",
        "import pickle\n",
        "\n",
        "with open(\"/content/drive/MyDrive/ai chatbots/intent.json\") as file:\n",
        "    data = json.load(file)\n",
        "\n",
        "\n",
        "def chat():\n",
        "    # load trained model\n",
        "    model = keras.models.load_model('chat_model')\n",
        "\n",
        "    # load tokenizer object\n",
        "    with open('tokenizer.pickle', 'rb') as handle:\n",
        "        tokenizer = pickle.load(handle)\n",
        "\n",
        "    # load label encoder object\n",
        "    with open('label_encoder.pickle', 'rb') as enc:\n",
        "        lbl_encoder = pickle.load(enc)\n",
        "\n",
        "    # parameters\n",
        "    max_len = 20\n",
        "\n",
        "    while True:\n",
        "        inp = input(\"User: \")\n",
        "        if inp.lower() == \"quit\":\n",
        "            break\n",
        "\n",
        "        result = model.predict(keras.preprocessing.sequence.pad_sequences(tokenizer.texts_to_sequences([inp]),\n",
        "                                             truncating='post', maxlen=max_len),verbose = 0)\n",
        "\n",
        "        tag = lbl_encoder.inverse_transform([np.argmax(result)])\n",
        "\n",
        "        for i in data['intents']:\n",
        "            if i['intent'] == tag:\n",
        "                print(\"User: \", inp)\n",
        "                print(\"ChatBot: \", np.random.choice(i['responses']))"
      ],
      "metadata": {
        "id": "3j86A7vMs4S3"
      },
      "execution_count": null,
      "outputs": []
    },
    {
      "cell_type": "code",
      "source": [
        "print(\"Start messaging with the bot (type quit to stop)!\")\n",
        "chat()"
      ],
      "metadata": {
        "colab": {
          "base_uri": "https://localhost:8080/",
          "height": 1000
        },
        "id": "xrIVc4l9uVr4",
        "outputId": "a5d75512-7d45-4b4b-d9a2-9e0e247a7f15"
      },
      "execution_count": null,
      "outputs": [
        {
          "output_type": "stream",
          "name": "stdout",
          "text": [
            "Start messaging with the bot (type quit to stop)!\n",
            "User: bn\n",
            "User:  bn\n",
            "ChatBot:  You can mail any problem you experience in this mail:  _______@gmail.com\n",
            "User: bn\n",
            "User:  bn\n",
            "ChatBot:  You can mail any problem you experience in this mail:  _______@gmail.com\n",
            "User: ok\n",
            "User:  ok\n",
            "ChatBot:  You can mail any problem you experience in this mail:  _______@gmail.com\n",
            "User: \n",
            "User:  \n",
            "ChatBot:  Mail for the support team: ________@gmail.com\n",
            "User: bishal\n",
            "User:  bishal\n",
            "ChatBot:  Mail for the support team: ________@gmail.com\n",
            "User: ok ok\n",
            "User:  ok ok\n",
            "ChatBot:  You can mail any problem you experience in this mail:  _______@gmail.com\n",
            "User: hello\n",
            "User:  hello\n",
            "ChatBot:  Hey!\n",
            "User: whaat are the course available\n",
            "User:  whaat are the course available\n",
            "ChatBot:  Accessing via a computer is recommended for the best experience.\n",
            "User: okay\n",
            "User:  okay\n",
            "ChatBot:  Mail for the support team: ________@gmail.com\n",
            "User: hi\n",
            "User:  hi\n",
            "ChatBot:  Hello\n",
            "User: who are you ?\n",
            "User:  who are you ?\n",
            "ChatBot:  I'm NobelBot, your bot assistant\n",
            "User: syllabus\n",
            "User:  syllabus\n",
            "ChatBot:  Creating course content is a systematic process that involves planning, organizing, and delivering educational material to help learners achieve specific learning objectives. \n",
            " Here are the main point to remember while desigining course: \n",
            " 1. Define course purpose \n",
            " 2. Audience Analysis \n",
            " 3. Curriculum Design \n",
            " 4. Content Research \n",
            " 5. Engagement Technique \n",
            " 6. Formatting and Design \n",
            " 7. Accessibility \n",
            " 8. Feedback\n",
            "User: 4\n",
            "User:  4\n",
            "ChatBot:  Mail for the support team: ________@gmail.com\n"
          ]
        },
        {
          "output_type": "error",
          "ename": "KeyboardInterrupt",
          "evalue": "ignored",
          "traceback": [
            "\u001b[0;31m---------------------------------------------------------------------------\u001b[0m",
            "\u001b[0;31mKeyboardInterrupt\u001b[0m                         Traceback (most recent call last)",
            "\u001b[0;32m<ipython-input-9-38c8fc426d6f>\u001b[0m in \u001b[0;36m<cell line: 2>\u001b[0;34m()\u001b[0m\n\u001b[1;32m      1\u001b[0m \u001b[0mprint\u001b[0m\u001b[0;34m(\u001b[0m\u001b[0;34m\"Start messaging with the bot (type quit to stop)!\"\u001b[0m\u001b[0;34m)\u001b[0m\u001b[0;34m\u001b[0m\u001b[0;34m\u001b[0m\u001b[0m\n\u001b[0;32m----> 2\u001b[0;31m \u001b[0mchat\u001b[0m\u001b[0;34m(\u001b[0m\u001b[0;34m)\u001b[0m\u001b[0;34m\u001b[0m\u001b[0;34m\u001b[0m\u001b[0m\n\u001b[0m",
            "\u001b[0;32m<ipython-input-8-477b91375746>\u001b[0m in \u001b[0;36mchat\u001b[0;34m()\u001b[0m\n\u001b[1;32m     27\u001b[0m \u001b[0;34m\u001b[0m\u001b[0m\n\u001b[1;32m     28\u001b[0m     \u001b[0;32mwhile\u001b[0m \u001b[0;32mTrue\u001b[0m\u001b[0;34m:\u001b[0m\u001b[0;34m\u001b[0m\u001b[0;34m\u001b[0m\u001b[0m\n\u001b[0;32m---> 29\u001b[0;31m         \u001b[0minp\u001b[0m \u001b[0;34m=\u001b[0m \u001b[0minput\u001b[0m\u001b[0;34m(\u001b[0m\u001b[0;34m\"User: \"\u001b[0m\u001b[0;34m)\u001b[0m\u001b[0;34m\u001b[0m\u001b[0;34m\u001b[0m\u001b[0m\n\u001b[0m\u001b[1;32m     30\u001b[0m         \u001b[0;32mif\u001b[0m \u001b[0minp\u001b[0m\u001b[0;34m.\u001b[0m\u001b[0mlower\u001b[0m\u001b[0;34m(\u001b[0m\u001b[0;34m)\u001b[0m \u001b[0;34m==\u001b[0m \u001b[0;34m\"quit\"\u001b[0m\u001b[0;34m:\u001b[0m\u001b[0;34m\u001b[0m\u001b[0;34m\u001b[0m\u001b[0m\n\u001b[1;32m     31\u001b[0m             \u001b[0;32mbreak\u001b[0m\u001b[0;34m\u001b[0m\u001b[0;34m\u001b[0m\u001b[0m\n",
            "\u001b[0;32m/usr/local/lib/python3.10/dist-packages/ipykernel/kernelbase.py\u001b[0m in \u001b[0;36mraw_input\u001b[0;34m(self, prompt)\u001b[0m\n\u001b[1;32m    849\u001b[0m                 \u001b[0;34m\"raw_input was called, but this frontend does not support input requests.\"\u001b[0m\u001b[0;34m\u001b[0m\u001b[0;34m\u001b[0m\u001b[0m\n\u001b[1;32m    850\u001b[0m             )\n\u001b[0;32m--> 851\u001b[0;31m         return self._input_request(str(prompt),\n\u001b[0m\u001b[1;32m    852\u001b[0m             \u001b[0mself\u001b[0m\u001b[0;34m.\u001b[0m\u001b[0m_parent_ident\u001b[0m\u001b[0;34m,\u001b[0m\u001b[0;34m\u001b[0m\u001b[0;34m\u001b[0m\u001b[0m\n\u001b[1;32m    853\u001b[0m             \u001b[0mself\u001b[0m\u001b[0;34m.\u001b[0m\u001b[0m_parent_header\u001b[0m\u001b[0;34m,\u001b[0m\u001b[0;34m\u001b[0m\u001b[0;34m\u001b[0m\u001b[0m\n",
            "\u001b[0;32m/usr/local/lib/python3.10/dist-packages/ipykernel/kernelbase.py\u001b[0m in \u001b[0;36m_input_request\u001b[0;34m(self, prompt, ident, parent, password)\u001b[0m\n\u001b[1;32m    893\u001b[0m             \u001b[0;32mexcept\u001b[0m \u001b[0mKeyboardInterrupt\u001b[0m\u001b[0;34m:\u001b[0m\u001b[0;34m\u001b[0m\u001b[0;34m\u001b[0m\u001b[0m\n\u001b[1;32m    894\u001b[0m                 \u001b[0;31m# re-raise KeyboardInterrupt, to truncate traceback\u001b[0m\u001b[0;34m\u001b[0m\u001b[0;34m\u001b[0m\u001b[0m\n\u001b[0;32m--> 895\u001b[0;31m                 \u001b[0;32mraise\u001b[0m \u001b[0mKeyboardInterrupt\u001b[0m\u001b[0;34m(\u001b[0m\u001b[0;34m\"Interrupted by user\"\u001b[0m\u001b[0;34m)\u001b[0m \u001b[0;32mfrom\u001b[0m \u001b[0;32mNone\u001b[0m\u001b[0;34m\u001b[0m\u001b[0;34m\u001b[0m\u001b[0m\n\u001b[0m\u001b[1;32m    896\u001b[0m             \u001b[0;32mexcept\u001b[0m \u001b[0mException\u001b[0m \u001b[0;32mas\u001b[0m \u001b[0me\u001b[0m\u001b[0;34m:\u001b[0m\u001b[0;34m\u001b[0m\u001b[0;34m\u001b[0m\u001b[0m\n\u001b[1;32m    897\u001b[0m                 \u001b[0mself\u001b[0m\u001b[0;34m.\u001b[0m\u001b[0mlog\u001b[0m\u001b[0;34m.\u001b[0m\u001b[0mwarning\u001b[0m\u001b[0;34m(\u001b[0m\u001b[0;34m\"Invalid Message:\"\u001b[0m\u001b[0;34m,\u001b[0m \u001b[0mexc_info\u001b[0m\u001b[0;34m=\u001b[0m\u001b[0;32mTrue\u001b[0m\u001b[0;34m)\u001b[0m\u001b[0;34m\u001b[0m\u001b[0;34m\u001b[0m\u001b[0m\n",
            "\u001b[0;31mKeyboardInterrupt\u001b[0m: Interrupted by user"
          ]
        }
      ]
    }
  ]
}